{
 "cells": [
  {
   "cell_type": "code",
   "execution_count": 5,
   "id": "dfcf8c9c",
   "metadata": {},
   "outputs": [],
   "source": [
    "import os\n",
    "import tensorflow as tf\n",
    "import numpy as np"
   ]
  },
  {
   "cell_type": "code",
   "execution_count": 2,
   "id": "849b9050",
   "metadata": {},
   "outputs": [
    {
     "name": "stdout",
     "output_type": "stream",
     "text": [
      "Downloading data from https://storage.googleapis.com/tensorflow/tf-keras-datasets/mnist.npz\n",
      "11493376/11490434 [==============================] - 1s 0us/step\n"
     ]
    }
   ],
   "source": [
    "mnist = tf.keras.datasets.mnist\n",
    "(x_train, y_train), (x_test, y_test) = mnist.load_data()\n",
    "x_train, x_test = x_train / 255.0, x_test / 255.0"
   ]
  },
  {
   "cell_type": "code",
   "execution_count": 3,
   "id": "c1ba2737",
   "metadata": {},
   "outputs": [],
   "source": [
    "model = tf.keras.models.Sequential([\n",
    "  tf.keras.layers.Flatten(input_shape=(28, 28)),\n",
    "  tf.keras.layers.Dense(128, activation='relu'),\n",
    "  tf.keras.layers.Dropout(0.2),\n",
    "  tf.keras.layers.Dense(10)\n",
    "])"
   ]
  },
  {
   "cell_type": "code",
   "execution_count": 4,
   "id": "2b99283d",
   "metadata": {},
   "outputs": [
    {
     "data": {
      "text/plain": [
       "array([[-0.16425547, -0.5388796 ,  1.097508  ,  0.57160795,  0.15996355,\n",
       "        -0.22083399, -0.8718391 ,  0.5253172 ,  0.44956428,  0.2986732 ]],\n",
       "      dtype=float32)"
      ]
     },
     "execution_count": 4,
     "metadata": {},
     "output_type": "execute_result"
    }
   ],
   "source": [
    "predictions = model(x_train[:1]).numpy()\n",
    "predictions"
   ]
  },
  {
   "cell_type": "code",
   "execution_count": 6,
   "id": "45f175e3",
   "metadata": {},
   "outputs": [
    {
     "data": {
      "text/plain": [
       "array([[0.0642826 , 0.04419735, 0.22702324, 0.134176  , 0.08889963,\n",
       "        0.06074656, 0.03168063, 0.12810646, 0.11876049, 0.10212705]],\n",
       "      dtype=float32)"
      ]
     },
     "execution_count": 6,
     "metadata": {},
     "output_type": "execute_result"
    }
   ],
   "source": [
    "tf.nn.softmax(predictions).numpy()"
   ]
  },
  {
   "cell_type": "code",
   "execution_count": 7,
   "id": "55047a18",
   "metadata": {},
   "outputs": [
    {
     "data": {
      "text/plain": [
       "2.801045"
      ]
     },
     "execution_count": 7,
     "metadata": {},
     "output_type": "execute_result"
    }
   ],
   "source": [
    "loss_fn = tf.keras.losses.SparseCategoricalCrossentropy(from_logits=True)\n",
    "loss_fn(y_train[:1], predictions).numpy()"
   ]
  },
  {
   "cell_type": "code",
   "execution_count": 9,
   "id": "c01da174",
   "metadata": {},
   "outputs": [
    {
     "name": "stdout",
     "output_type": "stream",
     "text": [
      "Epoch 1/5\n",
      "1875/1875 [==============================] - 1s 787us/step - loss: 0.2965 - accuracy: 0.91420s - los\n",
      "Epoch 2/5\n",
      "1875/1875 [==============================] - 1s 730us/step - loss: 0.1464 - accuracy: 0.9559\n",
      "Epoch 3/5\n",
      "1875/1875 [==============================] - 1s 770us/step - loss: 0.1104 - accuracy: 0.9657\n",
      "Epoch 4/5\n",
      "1875/1875 [==============================] - 2s 810us/step - loss: 0.0915 - accuracy: 0.9718\n",
      "Epoch 5/5\n",
      "1875/1875 [==============================] - 1s 781us/step - loss: 0.0760 - accuracy: 0.9765\n"
     ]
    },
    {
     "data": {
      "text/plain": [
       "<tensorflow.python.keras.callbacks.History at 0x1ff46721640>"
      ]
     },
     "execution_count": 9,
     "metadata": {},
     "output_type": "execute_result"
    }
   ],
   "source": [
    "model.compile(optimizer='adam',\n",
    "              loss=loss_fn,\n",
    "              metrics=['accuracy'])\n",
    "\n",
    "model.fit(x_train, y_train, epochs=5)"
   ]
  },
  {
   "cell_type": "code",
   "execution_count": 10,
   "id": "0e1dfbe0",
   "metadata": {},
   "outputs": [
    {
     "name": "stdout",
     "output_type": "stream",
     "text": [
      "313/313 - 0s - loss: 0.0788 - accuracy: 0.9752\n"
     ]
    },
    {
     "data": {
      "text/plain": [
       "[0.07880494743585587, 0.9751999974250793]"
      ]
     },
     "execution_count": 10,
     "metadata": {},
     "output_type": "execute_result"
    }
   ],
   "source": [
    "model.evaluate(x_test,  y_test, verbose=2)"
   ]
  },
  {
   "cell_type": "code",
   "execution_count": 11,
   "id": "ab3b30d4",
   "metadata": {},
   "outputs": [
    {
     "data": {
      "text/plain": [
       "<tf.Tensor: shape=(5, 10), dtype=float32, numpy=\n",
       "array([[2.2097117e-08, 4.9803530e-09, 2.4089859e-06, 4.7334343e-05,\n",
       "        2.7796459e-12, 2.3287949e-07, 1.5323800e-13, 9.9994886e-01,\n",
       "        7.2652234e-08, 1.1142198e-06],\n",
       "       [7.2622319e-10, 5.2867032e-04, 9.9947137e-01, 5.5249153e-08,\n",
       "        1.3753856e-16, 4.5012182e-08, 2.7838396e-09, 1.7048920e-12,\n",
       "        3.6999712e-10, 2.9100523e-13],\n",
       "       [4.1745643e-08, 9.9803537e-01, 1.6111550e-04, 3.7645236e-06,\n",
       "        3.4296536e-05, 4.1594203e-06, 8.3621262e-07, 1.7139033e-03,\n",
       "        4.3576489e-05, 3.0070814e-06],\n",
       "       [9.9972230e-01, 2.6972697e-07, 8.4246887e-05, 7.7125442e-06,\n",
       "        4.3324148e-06, 9.3747869e-05, 4.3500186e-06, 7.3200827e-05,\n",
       "        9.1486896e-07, 8.8353372e-06],\n",
       "       [6.7871711e-06, 2.2851095e-10, 5.6885356e-06, 2.0113106e-08,\n",
       "        9.9669349e-01, 6.0258469e-07, 1.0741578e-06, 4.1955416e-05,\n",
       "        2.1283522e-06, 3.2482482e-03]], dtype=float32)>"
      ]
     },
     "execution_count": 11,
     "metadata": {},
     "output_type": "execute_result"
    }
   ],
   "source": [
    "probability_model = tf.keras.Sequential([\n",
    "  model,\n",
    "  tf.keras.layers.Softmax()\n",
    "])\n",
    "probability_model(x_test[:5])"
   ]
  }
 ],
 "metadata": {
  "kernelspec": {
   "display_name": "Python 3",
   "language": "python",
   "name": "python3"
  },
  "language_info": {
   "codemirror_mode": {
    "name": "ipython",
    "version": 3
   },
   "file_extension": ".py",
   "mimetype": "text/x-python",
   "name": "python",
   "nbconvert_exporter": "python",
   "pygments_lexer": "ipython3",
   "version": "3.8.8"
  }
 },
 "nbformat": 4,
 "nbformat_minor": 5
}
